{
 "cells": [
  {
   "cell_type": "code",
   "execution_count": 11,
   "metadata": {
    "pycharm": {
     "is_executing": false
    }
   },
   "outputs": [],
   "source": [
    "from imageai.Detection import ObjectDetection\n",
    "\n",
    "\n",
    "#print(tf.__version__)\n",
    "model_path = \"./yolo.h5\"\n",
    "input_path = \"./input/test.jpg\"\n",
    "output_path = \"./output/out_test.jpg\"\n",
    "\n",
    "detector = ObjectDetection()\n",
    "#detector.setModelTypeAsRetinaNet()\n",
    "detector.setModelTypeAsYOLOv3()\n",
    "detector.setModelPath(model_path)\n",
    "detector.loadModel()\n"
   ]
  },
  {
   "cell_type": "code",
   "execution_count": 12,
   "outputs": [
    {
     "name": "stdout",
     "text": [
      "person  :  45.33134400844574  :  (732, 0, 754, 57)\n",
      "--------------------------------\n",
      "person  :  51.66503190994263  :  (1, 254, 24, 387)\n",
      "--------------------------------\n",
      "person  :  68.40991377830505  :  (871, 2, 896, 84)\n",
      "--------------------------------\n",
      "person  :  69.19177174568176  :  (489, 58, 518, 150)\n",
      "--------------------------------\n",
      "person  :  70.72526216506958  :  (704, 30, 741, 110)\n",
      "--------------------------------\n",
      "person  :  71.45310044288635  :  (463, 72, 494, 163)\n",
      "--------------------------------\n",
      "person  :  79.00758981704712  :  (1104, 0, 1140, 79)\n",
      "--------------------------------\n",
      "person  :  79.79484796524048  :  (511, 78, 558, 182)\n",
      "--------------------------------\n",
      "person  :  85.35525798797607  :  (737, 71, 778, 168)\n",
      "--------------------------------\n",
      "person  :  87.1103048324585  :  (758, 55, 797, 162)\n",
      "--------------------------------\n",
      "person  :  89.36514854431152  :  (866, 136, 916, 266)\n",
      "--------------------------------\n",
      "person  :  92.61516332626343  :  (377, 217, 426, 341)\n",
      "--------------------------------\n",
      "person  :  92.77850985527039  :  (1169, 241, 1246, 449)\n",
      "--------------------------------\n",
      "person  :  93.98528337478638  :  (700, 97, 738, 189)\n",
      "--------------------------------\n",
      "person  :  95.43064832687378  :  (652, 197, 718, 359)\n",
      "--------------------------------\n",
      "person  :  96.53410315513611  :  (929, 155, 986, 279)\n",
      "--------------------------------\n",
      "person  :  96.67206406593323  :  (299, 166, 346, 273)\n",
      "--------------------------------\n",
      "person  :  98.55143427848816  :  (720, 218, 771, 359)\n",
      "--------------------------------\n",
      "person  :  98.6791729927063  :  (1060, 257, 1118, 392)\n",
      "--------------------------------\n",
      "person  :  99.61858987808228  :  (587, 541, 684, 719)\n",
      "--------------------------------\n"
     ],
     "output_type": "stream"
    }
   ],
   "source": [
    "custom_objects = detector.CustomObjects(person=True)\n",
    "detections = detector.detectCustomObjectsFromImage(custom_objects=custom_objects, input_image=\"./input/test.jpg\", output_image_path=\"./output/out_test.jpg\", minimum_percentage_probability=30, display_percentage_probability=False, display_object_name=False)\n",
    "\n",
    "for eachObject in detections:\n",
    "    print(eachObject[\"name\"] , \" : \", eachObject[\"percentage_probability\"], \" : \", eachObject[\"box_points\"] )\n",
    "    print(\"--------------------------------\")\n"
   ],
   "metadata": {
    "collapsed": false,
    "pycharm": {
     "name": "#%%\n",
     "is_executing": false
    }
   }
  },
  {
   "cell_type": "code",
   "execution_count": 12,
   "metadata": {
    "pycharm": {
     "is_executing": false
    }
   },
   "outputs": [],
   "source": []
  }
 ],
 "metadata": {
  "kernelspec": {
   "display_name": "Python 3",
   "language": "python",
   "name": "python3"
  },
  "language_info": {
   "codemirror_mode": {
    "name": "ipython",
    "version": 3
   },
   "file_extension": ".py",
   "mimetype": "text/x-python",
   "name": "python",
   "nbconvert_exporter": "python",
   "pygments_lexer": "ipython3",
   "version": "3.7.6"
  },
  "pycharm": {
   "stem_cell": {
    "cell_type": "raw",
    "source": [],
    "metadata": {
     "collapsed": false
    }
   }
  }
 },
 "nbformat": 4,
 "nbformat_minor": 1
}